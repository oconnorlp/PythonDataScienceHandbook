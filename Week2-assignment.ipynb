{
 "cells": [
  {
   "cell_type": "markdown",
   "metadata": {},
   "source": [
    "Before you turn this problem in, make sure everything runs as expected. First, **restart the kernel** (in the menubar, select Kernel$\\rightarrow$Restart) and then **run all cells** (in the menubar, select Cell$\\rightarrow$Run All).\n",
    "\n",
    "Make sure you fill in any place that says `YOUR CODE HERE` or \"YOUR ANSWER HERE\"."
   ]
  },
  {
   "cell_type": "markdown",
   "metadata": {},
   "source": [
    "# Week2 Assignments\n",
    "\n",
    "\n",
    "This assignment has three components. Each of the first three components receives one point if all the tests pass. \n",
    "The last component on Pandas may require more effort, it consists of three subtasks, each of the subtasks receives 1 point.\n",
    "\n",
    "All the exercises are designed so that the solutions will need only one or a few lines of code.\n",
    "\n",
    "Some concepts may be new to you and may require digging into the Python, NumPy or Pandas documentation, the links are provided.\n",
    "\n",
    "Do not hesitate to contact instuctors and TA via #week2 channel on Slack if you get stuck. Join the channel first by clicking on Channels."
   ]
  },
  {
   "cell_type": "markdown",
   "metadata": {},
   "source": [
    "## Part A. Create a missing function (1 point)\n",
    "\n",
    "In this exercise you need to create a function __missing_link(x)__ that is passed to another function as an argument in order to perform a calculation.\n",
    "\n",
    "We know the final result (see the assert operator), but we do not know the intermediate calculation leading to that result.\n",
    "\n",
    "Read about Python built-in functions __all()__ and __zip()__\n",
    "https://docs.python.org/3.3/library/functions.html\n",
    "\n",
    "and about the iterators and generators here:\n",
    "https://docs.python.org/3.3/library/stdtypes.html#typeiter"
   ]
  },
  {
   "cell_type": "code",
   "execution_count": null,
   "metadata": {
    "collapsed": true,
    "deletable": false,
    "editable": false,
    "nbgrader": {
     "checksum": "7fa570e0f3ef83360f282f9cc6acdc8e",
     "grade": false,
     "grade_id": "cell-c43104a470a0fbef",
     "locked": true,
     "schema_version": 1,
     "solution": false
    }
   },
   "outputs": [],
   "source": [
    "def calculate(func, it):\n",
    "    \"\"\"\n",
    "    Performs calculation by applying *func* to each item of iterator *it*\n",
    "    Returns a generator as a result.\n",
    "    \"\"\"\n",
    "    return (2 * func(a) for a in it)\n"
   ]
  },
  {
   "cell_type": "code",
   "execution_count": null,
   "metadata": {
    "collapsed": true,
    "deletable": false,
    "nbgrader": {
     "checksum": "3c1da81623750841d7cde8e94d7ad94c",
     "grade": false,
     "grade_id": "cell-c1e7f79ad332b8f9",
     "locked": false,
     "schema_version": 1,
     "solution": true
    }
   },
   "outputs": [],
   "source": [
    "def missing_link(x):\n",
    "    \"\"\"Define a function that will be passed to calculate() as an argument\"\"\"\n",
    "    # YOUR CODE HERE\n",
    "    pass\n",
    "\n",
    "## You can check the result of the missing_link() function and of calculate() if you wish:\n",
    "# print(list(map(missing_link, range(5))))\n",
    "# print(list(calculate(missing_link, range(5))))"
   ]
  },
  {
   "cell_type": "code",
   "execution_count": null,
   "metadata": {
    "deletable": false,
    "editable": false,
    "nbgrader": {
     "checksum": "2ca1c8af6f77996043d3b589bac328bd",
     "grade": true,
     "grade_id": "cell-fd50146eeead0c65",
     "locked": true,
     "points": 1,
     "schema_version": 1,
     "solution": false
    }
   },
   "outputs": [],
   "source": [
    "_observed_results = calculate(missing_link, range(7))\n",
    "_expected_results = [0, 2, 8, 18, 32, 50, 72]\n",
    "\n",
    "assert all(a == b for a, b in zip(_observed_results, _expected_results))"
   ]
  },
  {
   "cell_type": "markdown",
   "metadata": {},
   "source": [
    "## Part B. NumPy (1 point)\n",
    "\n",
    "Define __x__ as a subdivision of an interval from -4 PI to 4 PI into 32 equal parts, i.e. with a PI/4 step. Including both endpoints that should give 33 points.\n",
    "Using NumPy calculate __cos()__ and __sin()__ and find the values of __x__ where __cos(x)__ is equal to __sin(x)__ and store these values in the variable __y__. Use NumPy vector operations.\n",
    "\n",
    "Use __np.pi__ constant and __np.linspace()__ function: \n",
    "https://docs.scipy.org/doc/numpy/reference/generated/numpy.linspace.html\n",
    "\n",
    "Note that due to the way floating points are stored in memory exact comparison is nearly always impossible. You should use __np.isclose()__ instead. That would allow some room for floating point errors.\n",
    "https://docs.scipy.org/doc/numpy-dev/reference/generated/numpy.isclose.html\n",
    "\n",
    "This plot may be helpful:\n",
    "http://www.wolframalpha.com/input/?i=plot+sinx+and+cosx+from+-4pi+to+4pi"
   ]
  },
  {
   "cell_type": "code",
   "execution_count": null,
   "metadata": {
    "collapsed": true,
    "deletable": false,
    "nbgrader": {
     "checksum": "245a9b2caf76bbd889d1d5df25002d2f",
     "grade": false,
     "grade_id": "cell-8d46731c6bc218b6",
     "locked": false,
     "schema_version": 1,
     "solution": true
    }
   },
   "outputs": [],
   "source": [
    "import numpy as np\n",
    "\n",
    "# define x and y variables\n",
    "\n",
    "# YOUR CODE HERE\n",
    "pass\n"
   ]
  },
  {
   "cell_type": "code",
   "execution_count": null,
   "metadata": {
    "collapsed": true,
    "deletable": false,
    "editable": false,
    "nbgrader": {
     "checksum": "ac9206dcbcc7f53cc8a0d295b9596e01",
     "grade": true,
     "grade_id": "cell-c7edebc7b2cd1c7b",
     "locked": true,
     "points": 1,
     "schema_version": 1,
     "solution": false
    }
   },
   "outputs": [],
   "source": [
    "assert x.shape[0] == 33\n",
    "assert -4*np.pi in x\n",
    "assert 0.0 in x\n",
    "assert 4*np.pi in x\n",
    "\n",
    "assert y.shape[0] == 8\n",
    "assert np.all(np.isclose(y/np.pi, np.array([-3.75, -2.75, -1.75, -0.75,  0.25,  1.25,  2.25,  3.25])))"
   ]
  },
  {
   "cell_type": "markdown",
   "metadata": {},
   "source": [
    "## Part C. Working with Pandas dataframes (3 points)\n",
    "\n",
    "We will explore FBI reports on gun checks provided by the National Instant Criminal Background Check System (NICS)\n",
    "https://www.fbi.gov/services/cjis/nics\n",
    "\n",
    "Before ringing up the sale, cashiers call in a check to the FBI or to other designated agencies to ensure that each customer does not have a criminal record or isn’t otherwise ineligible to make a purchase. More than 230 million such checks have been made, leading to more than 1.3 million denials.\n",
    "\n",
    "NICS and background checks is a hot topic and it is important to be able to do some basic fact-checking using the data available. https://www.washingtonpost.com/news/fact-checker/wp/2018/02/23/fact-checking-trump-nra-claims-on-gun-background-checks/?utm_term=.3e0284ad3774\n",
    "\n",
    "The FBI NICS provides data as PDF reports, which is a really bad example of distributing the data.\n",
    "There is a community-developed parser that extracted the data from PDF files. Parsed dataset that we will be using is available here: \n",
    "https://github.com/BuzzFeedNews/nics-firearm-background-checks/blob/master/README.md\n",
    "\n",
    "Note that the number of background checks can not be directly interpreted as the number of guns sold because the actual sale protocols vary state to state.\n",
    "\n",
    "For reproducibility we will be using a local copy of the file."
   ]
  },
  {
   "cell_type": "code",
   "execution_count": null,
   "metadata": {},
   "outputs": [],
   "source": [
    "import pandas as pd\n",
    "\n",
    "# NICS parsed dataset url (local copy)\n",
    "url = \"https://github.com/biof509/spring2019/blob/master/week2/nics-firearm-background-checks.csv?raw=true\"\n",
    "guns = pd.read_csv(url)"
   ]
  },
  {
   "cell_type": "code",
   "execution_count": null,
   "metadata": {
    "collapsed": true
   },
   "outputs": [],
   "source": [
    "# Use .head() .info() and .describe() to explore the dataset"
   ]
  },
  {
   "cell_type": "markdown",
   "metadata": {},
   "source": [
    "### Part C. Subtask 1 (1 point)\n",
    "\n",
    "First, use __pd.to_datetime()__ with argument __yearfirst=True__ to convert the column __\"month\"__ to a Pandas Series with DateTime objects. Add a new column __\"year\"__ to __guns__ dataframe and save the results of conversion there.\n",
    "https://pandas.pydata.org/pandas-docs/stable/generated/pandas.to_datetime.html\n",
    "\n",
    "You can access Python __datetime.date__ objects via the __.dt__ property of Pandas Series:\n",
    "https://pandas.pydata.org/pandas-docs/stable/generated/pandas.Series.dt.date.html\n",
    "\n",
    "Look up the attributes of __datetime.date__ class, we will need attribute __.year__\n",
    "https://docs.python.org/3/library/datetime.html\n"
   ]
  },
  {
   "cell_type": "code",
   "execution_count": null,
   "metadata": {
    "collapsed": true,
    "deletable": false,
    "nbgrader": {
     "checksum": "23e5b52f9dc2380cafded654aa642b23",
     "grade": false,
     "grade_id": "cell-377e7ae405383f99",
     "locked": false,
     "schema_version": 1,
     "solution": true
    }
   },
   "outputs": [],
   "source": [
    "# YOUR CODE HERE\n",
    "pass\n"
   ]
  },
  {
   "cell_type": "code",
   "execution_count": null,
   "metadata": {
    "deletable": false,
    "editable": false,
    "nbgrader": {
     "checksum": "446b1bed90c39989f8435b41e8152e78",
     "grade": true,
     "grade_id": "cell-fd44161086b39a45",
     "locked": true,
     "points": 1,
     "schema_version": 1,
     "solution": false
    }
   },
   "outputs": [],
   "source": [
    "assert (guns['year'].min(), guns['year'].max()) == (1998, 2018)"
   ]
  },
  {
   "cell_type": "markdown",
   "metadata": {},
   "source": [
    "### Part C. Subtask 2 (1 point)\n",
    "\n",
    "Group __guns__ dataframe by year and sum up the __totals__ (together, regardless of state). Use the variables\n",
    "__totals_2000__ and __totals_2017__ to store the corresponding results.\n",
    "\n",
    "You will need https://pandas.pydata.org/pandas-docs/stable/generated/pandas.DataFrame.groupby.html"
   ]
  },
  {
   "cell_type": "code",
   "execution_count": null,
   "metadata": {
    "deletable": false,
    "nbgrader": {
     "checksum": "92f8ffe28cb6fb5c8e9ad82ce8c645cd",
     "grade": false,
     "grade_id": "cell-75001ba281dc95cc",
     "locked": false,
     "schema_version": 1,
     "solution": true
    }
   },
   "outputs": [],
   "source": [
    "# YOUR CODE HERE\n",
    "pass"
   ]
  },
  {
   "cell_type": "code",
   "execution_count": null,
   "metadata": {
    "collapsed": true,
    "deletable": false,
    "editable": false,
    "nbgrader": {
     "checksum": "5f21eb3e4f3e773cb9a3d47b10247bfa",
     "grade": true,
     "grade_id": "cell-b7846271cdcb45c0",
     "locked": true,
     "points": 1,
     "schema_version": 1,
     "solution": false
    }
   },
   "outputs": [],
   "source": [
    "assert totals_2000 == 8427096\n",
    "assert totals_2017 == 24955919"
   ]
  },
  {
   "cell_type": "markdown",
   "metadata": {},
   "source": [
    "### Part C. Subtask 3 (1 point)\n",
    "\n",
    "Group data by state (regardless of year) and calculate the mean value of __long_gun__ and __handgun__ checks separately for each state. Calculate the number of states that had more long gun background checks on average over the years than handgun checks. Calculate the number of states with more handgun checks. Store these results in __states_with_more_long_guns__ and __states_with_more_handguns__ variables, respectively.\n",
    "\n",
    "Hint: Use vector operations. No for loops are needed. A result of comparison of two vectors is a vector of booleans. You can sum up the vector of booleans to calculate the number of True values in it."
   ]
  },
  {
   "cell_type": "code",
   "execution_count": null,
   "metadata": {
    "deletable": false,
    "nbgrader": {
     "checksum": "e1c41e4033c2f7a02e25068b5f59e563",
     "grade": false,
     "grade_id": "cell-48eea5c5fac136c1",
     "locked": false,
     "schema_version": 1,
     "solution": true
    }
   },
   "outputs": [],
   "source": [
    "# YOUR CODE HERE\n",
    "pass"
   ]
  },
  {
   "cell_type": "code",
   "execution_count": null,
   "metadata": {
    "collapsed": true,
    "deletable": false,
    "editable": false,
    "nbgrader": {
     "checksum": "5266dcec2cfe396c038188aa8fe1c8b1",
     "grade": true,
     "grade_id": "cell-ec454c9539fb239e",
     "locked": true,
     "points": 1,
     "schema_version": 1,
     "solution": false
    }
   },
   "outputs": [],
   "source": [
    "assert states_with_more_long_guns == 35\n",
    "assert states_with_more_handguns == 20"
   ]
  },
  {
   "cell_type": "code",
   "execution_count": null,
   "metadata": {
    "collapsed": true
   },
   "outputs": [],
   "source": []
  }
 ],
 "metadata": {
  "kernelspec": {
   "display_name": "Python 3",
   "language": "python",
   "name": "python3"
  },
  "language_info": {
   "codemirror_mode": {
    "name": "ipython",
    "version": 3
   },
   "file_extension": ".py",
   "mimetype": "text/x-python",
   "name": "python",
   "nbconvert_exporter": "python",
   "pygments_lexer": "ipython3",
   "version": "3.6.3"
  }
 },
 "nbformat": 4,
 "nbformat_minor": 2
}
